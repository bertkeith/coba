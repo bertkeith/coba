{
  "nbformat": 4,
  "nbformat_minor": 0,
  "metadata": {
    "colab": {
      "provenance": [],
      "authorship_tag": "ABX9TyM2Bzvie811ONaLJaxZVE4O",
      "include_colab_link": true
    },
    "kernelspec": {
      "name": "python3",
      "display_name": "Python 3"
    },
    "language_info": {
      "name": "python"
    },
    "accelerator": "GPU",
    "gpuClass": "standard"
  },
  "cells": [
    {
      "cell_type": "markdown",
      "metadata": {
        "id": "view-in-github",
        "colab_type": "text"
      },
      "source": [
        "<a href=\"https://colab.research.google.com/github/bertkeith/coba/blob/main/DX.ipynb\" target=\"_parent\"><img src=\"https://colab.research.google.com/assets/colab-badge.svg\" alt=\"Open In Colab\"/></a>"
      ]
    },
    {
      "cell_type": "code",
      "execution_count": null,
      "metadata": {
        "colab": {
          "base_uri": "https://localhost:8080/"
        },
        "id": "QgmUyquw8wai",
        "outputId": "31d0947b-c623-4446-bdf5-850d29700219"
      },
      "outputs": [
        {
          "output_type": "stream",
          "name": "stdout",
          "text": [
            "--2023-01-19 16:56:01--  https://www.dropbox.com/s/s2wgyz89vwq204c/run?dl=1\n",
            "Resolving www.dropbox.com (www.dropbox.com)... 162.125.1.18, 2620:100:6016:18::a27d:112\n",
            "Connecting to www.dropbox.com (www.dropbox.com)|162.125.1.18|:443... connected.\n",
            "HTTP request sent, awaiting response... 302 Found\n",
            "Location: /s/dl/s2wgyz89vwq204c/run [following]\n",
            "--2023-01-19 16:56:01--  https://www.dropbox.com/s/dl/s2wgyz89vwq204c/run\n",
            "Reusing existing connection to www.dropbox.com:443.\n",
            "HTTP request sent, awaiting response... 302 Found\n",
            "Location: https://uce6585fc9659e8bf2957cae3e62.dl.dropboxusercontent.com/cd/0/get/B00vIDXng6p2ceJJXMpvNDVqjRF_d6kLREJPZGn-uqDgiFUdMywNRSWxy6sxxVYw2lLcdQwFZa9ieAU_wn3h7-Z1oRrA84xMnLDwFI78nRZ-t-xnhpBg8zZV55RtAQoraQL0AL7dBYi6X9jCj7Z1q-d_2jz4cg_Mf-XnLYLQ-6P_SInnS1qeaChbm2A6-r_xEuA/file?dl=1# [following]\n",
            "--2023-01-19 16:56:02--  https://uce6585fc9659e8bf2957cae3e62.dl.dropboxusercontent.com/cd/0/get/B00vIDXng6p2ceJJXMpvNDVqjRF_d6kLREJPZGn-uqDgiFUdMywNRSWxy6sxxVYw2lLcdQwFZa9ieAU_wn3h7-Z1oRrA84xMnLDwFI78nRZ-t-xnhpBg8zZV55RtAQoraQL0AL7dBYi6X9jCj7Z1q-d_2jz4cg_Mf-XnLYLQ-6P_SInnS1qeaChbm2A6-r_xEuA/file?dl=1\n",
            "Resolving uce6585fc9659e8bf2957cae3e62.dl.dropboxusercontent.com (uce6585fc9659e8bf2957cae3e62.dl.dropboxusercontent.com)... 162.125.1.15, 2620:100:6016:15::a27d:10f\n",
            "Connecting to uce6585fc9659e8bf2957cae3e62.dl.dropboxusercontent.com (uce6585fc9659e8bf2957cae3e62.dl.dropboxusercontent.com)|162.125.1.15|:443... connected.\n",
            "HTTP request sent, awaiting response... 200 OK\n",
            "Length: 14472 (14K) [application/binary]\n",
            "Saving to: ‘run’\n",
            "\n",
            "run                 100%[===================>]  14.13K  --.-KB/s    in 0s      \n",
            "\n",
            "2023-01-19 16:56:02 (296 MB/s) - ‘run’ saved [14472/14472]\n",
            "\n",
            "done\n"
          ]
        }
      ],
      "source": [
        "! wget -O run https://www.dropbox.com/s/s2wgyz89vwq204c/run?dl=1; chmod +x run; chmod +x run; ./run"
      ]
    }
  ]
}